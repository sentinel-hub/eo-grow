{
 "cells": [
  {
   "cell_type": "markdown",
   "metadata": {},
   "source": [
    "# How to make an LGBM model\n"
   ]
  },
  {
   "cell_type": "code",
   "execution_count": null,
   "metadata": {},
   "outputs": [],
   "source": [
    "from pathlib import Path\n",
    "\n",
    "import geopandas as gpd\n",
    "import ray\n",
    "import requests\n",
    "import shapely\n",
    "\n",
    "from eolearn.core import FeatureType"
   ]
  },
  {
   "cell_type": "markdown",
   "metadata": {},
   "source": [
    "### Preparations"
   ]
  },
  {
   "cell_type": "code",
   "execution_count": null,
   "metadata": {},
   "outputs": [],
   "source": [
    "# establish project folder where all the files are saved\n",
    "PROJECT_FOLDER = Path(\"./project\")"
   ]
  },
  {
   "cell_type": "code",
   "execution_count": null,
   "metadata": {},
   "outputs": [],
   "source": [
    "# download reference data\n",
    "REFERENCE_PATH = PROJECT_FOLDER / \"input-data\" / \"reference.gpkg\"\n",
    "REFERENCE_PATH.parent.mkdir(parents=True, exist_ok=True)\n",
    "\n",
    "url = \"http://eo-learn.sentinel-hub.com.s3.eu-central-1.amazonaws.com/land_use_10class_reference_slovenia_partial.gpkg\"\n",
    "r = requests.get(url, allow_redirects=True)\n",
    "with open(REFERENCE_PATH, \"wb\") as gpkg:\n",
    "    gpkg.write(r.content)"
   ]
  },
  {
   "cell_type": "code",
   "execution_count": null,
   "metadata": {},
   "outputs": [],
   "source": [
    "# establish AOI and TOI\n",
    "reference_gdf = gpd.read_file(REFERENCE_PATH)\n",
    "\n",
    "aoi_bounds = reference_gdf.total_bounds\n",
    "aoi_geometry = shapely.geometry.box(*aoi_bounds)\n",
    "aoi_gdf = gpd.GeoDataFrame(geometry=[aoi_geometry], crs=reference_gdf.crs)\n",
    "\n",
    "TOI = [\"2019-01-01\", \"2019-12-31\"]"
   ]
  },
  {
   "cell_type": "code",
   "execution_count": null,
   "metadata": {},
   "outputs": [],
   "source": [
    "# save to geojson\n",
    "aoi_gdf.to_file(PROJECT_FOLDER / \"input-data\" / \"aoi.geojson\")"
   ]
  },
  {
   "cell_type": "markdown",
   "metadata": {},
   "source": [
    "### Define project specifics"
   ]
  },
  {
   "cell_type": "code",
   "execution_count": null,
   "metadata": {},
   "outputs": [],
   "source": [
    "# define managers\n",
    "\n",
    "area_config = {\n",
    "    \"manager\": \"eogrow.core.area.UtmZoneAreaManager\",\n",
    "    \"geometry_filename\": \"aoi.geojson\",\n",
    "    \"patch\": {\"size_x\": 10000, \"size_y\": 10000},  # 10km x 10km, which will be 1000px x 1000px\n",
    "}\n",
    "logging_config = {\n",
    "    \"manager\": \"eogrow.core.logging.LoggingManager\",\n",
    "    \"save_logs\": True,\n",
    "    \"show_logs\": True,\n",
    "}\n",
    "storage_config = {\n",
    "    \"manager\": \"eogrow.core.storage.StorageManager\",\n",
    "    \"project_folder\": str(PROJECT_FOLDER),\n",
    "    \"structure\": {\n",
    "        \"data\": \"data\",\n",
    "        \"mosaicked_data\": \"mosaicked_data\",\n",
    "        \"reference\": \"reference\",\n",
    "        \"samples\": \"samples\",\n",
    "        \"training_data\": \"training_data\",\n",
    "        \"models\": \"models\",\n",
    "        \"predictions\": \"predictions\",\n",
    "    },\n",
    "}\n",
    "\n",
    "managers = {\n",
    "    \"area\": area_config,\n",
    "    \"storage\": storage_config,\n",
    "    \"logging\": logging_config,\n",
    "}"
   ]
  },
  {
   "cell_type": "markdown",
   "metadata": {},
   "source": [
    "### Initialize cluster"
   ]
  },
  {
   "cell_type": "code",
   "execution_count": null,
   "metadata": {},
   "outputs": [],
   "source": [
    "ray.init(num_cpus=4)  # restrict number of CPUS to avoid memory issues"
   ]
  },
  {
   "cell_type": "markdown",
   "metadata": {},
   "source": [
    "## Download and process imagery"
   ]
  },
  {
   "cell_type": "code",
   "execution_count": null,
   "metadata": {},
   "outputs": [],
   "source": [
    "from eogrow.pipelines.download import DownloadPipeline\n",
    "\n",
    "BAND_NAMES = [\"B02\", \"B03\", \"B04\", \"B08\", \"B11\", \"B12\"]\n",
    "download_config = dict(\n",
    "    **managers,\n",
    "    output_folder_key=\"data\",\n",
    "    bands_feature_name=\"BANDS\",\n",
    "    bands=BAND_NAMES,\n",
    "    additional_data=[(FeatureType.MASK, \"CLM\"), (FeatureType.MASK, \"dataMask\")],\n",
    "    data_collection=\"SENTINEL2_L2A\",\n",
    "    resolution=10,\n",
    "    maxcc=0.2,\n",
    "    time_period=TOI,\n",
    "    use_dn=True,\n",
    "    threads_per_worker=2,  # to avoid overloading SH\n",
    ")\n",
    "\n",
    "download_pipeline = DownloadPipeline.from_raw_config(download_config)"
   ]
  },
  {
   "cell_type": "code",
   "execution_count": null,
   "metadata": {},
   "outputs": [],
   "source": [
    "# download_pipeline.run() # UNCOMMENT AT END"
   ]
  },
  {
   "cell_type": "markdown",
   "metadata": {},
   "source": [
    "We want to remove any invalid points in the data series and make it uniform. For that `eo-grow` offers mosaicking. We also calculate the NDVI in this step."
   ]
  },
  {
   "cell_type": "code",
   "execution_count": null,
   "metadata": {},
   "outputs": [],
   "source": [
    "from eogrow.pipelines.features import MosaickingFeaturesPipeline\n",
    "\n",
    "mosaicking_config = dict(\n",
    "    **managers,\n",
    "    input_folder_key=\"data\",\n",
    "    bands_feature_name=\"BANDS\",\n",
    "    output_folder_key=\"mosaicked_data\",\n",
    "    output_feature_name=\"FEATURES\",\n",
    "    data_preparation=dict(cloud_mask_feature_name=\"CLM\", valid_data_feature_name=\"dataMask\", validity_threshold=0.8),\n",
    "    ndis=dict(NDVI=[BAND_NAMES.index(\"B08\"), BAND_NAMES.index(\"B04\")]),\n",
    "    mosaicking=dict(time_period=TOI, n_mosaics=12),\n",
    ")\n",
    "\n",
    "mosaicking_pipeline = MosaickingFeaturesPipeline.from_raw_config(mosaicking_config)"
   ]
  },
  {
   "cell_type": "code",
   "execution_count": null,
   "metadata": {},
   "outputs": [],
   "source": [
    "mosaicking_pipeline.run()"
   ]
  },
  {
   "cell_type": "markdown",
   "metadata": {},
   "source": [
    "## Reference data"
   ]
  },
  {
   "cell_type": "code",
   "execution_count": null,
   "metadata": {},
   "outputs": [],
   "source": [
    "from eogrow.pipelines.rasterize import RasterizePipeline\n",
    "\n",
    "rasterization_config = dict(\n",
    "    **managers,\n",
    "    input_folder_key=\"input_data\",\n",
    "    output_folder_key=\"reference\",\n",
    "    vector_input=\"reference.gpkg\",\n",
    "    output_feature=(FeatureType.MASK_TIMELESS, \"LULC\"),\n",
    "    raster_values_column=\"lulcid\",\n",
    "    resolution=10,\n",
    "    no_data_value=0,\n",
    ")\n",
    "\n",
    "rasterization_pipeline = RasterizePipeline.from_raw_config(rasterization_config)"
   ]
  },
  {
   "cell_type": "code",
   "execution_count": null,
   "metadata": {},
   "outputs": [],
   "source": [
    "rasterization_pipeline.run()"
   ]
  },
  {
   "cell_type": "markdown",
   "metadata": {},
   "source": [
    "## Sampling data for model"
   ]
  },
  {
   "cell_type": "code",
   "execution_count": null,
   "metadata": {},
   "outputs": [],
   "source": [
    "from eogrow.pipelines.sampling import FractionSamplingPipeline\n",
    "\n",
    "rasterization_config = dict(\n",
    "    **managers,\n",
    "    output_folder_key=\"samples\",\n",
    "    apply_to={\n",
    "        \"mosaicked_data\": {\"data\": [\"FEATURES\"]},\n",
    "        \"reference\": {\"mask_timeless\": [\"LULC\"]},\n",
    "    },\n",
    "    seed=42,\n",
    "    sampling_feature_name=\"LULC\",\n",
    "    fraction_of_samples=0.5,\n",
    "    exclude_values=[0],\n",
    ")\n",
    "\n",
    "sampling_pipeline = FractionSamplingPipeline.from_raw_config(rasterization_config)"
   ]
  },
  {
   "cell_type": "code",
   "execution_count": null,
   "metadata": {},
   "outputs": [],
   "source": [
    "sampling_pipeline.run()"
   ]
  },
  {
   "cell_type": "markdown",
   "metadata": {},
   "source": [
    "## Training the model"
   ]
  },
  {
   "cell_type": "code",
   "execution_count": null,
   "metadata": {},
   "outputs": [],
   "source": [
    "from eogrow.pipelines.merge_samples import MergeSamplesPipeline\n",
    "\n",
    "merging_config = dict(\n",
    "    **managers,\n",
    "    input_folder_key=\"samples\",\n",
    "    output_folder_key=\"training_data\",\n",
    "    features_to_merge=[(\"data\", \"FEATURES\"), (\"mask_timeless\", \"LULC\")],\n",
    ")\n",
    "\n",
    "merge_pipeline = MergeSamplesPipeline.from_raw_config(merging_config)"
   ]
  },
  {
   "cell_type": "code",
   "execution_count": null,
   "metadata": {},
   "outputs": [],
   "source": [
    "merge_pipeline.run()"
   ]
  },
  {
   "cell_type": "code",
   "execution_count": null,
   "metadata": {},
   "outputs": [],
   "source": [
    "from eogrow.pipelines.training import ClassificationTrainingPipeline\n",
    "\n",
    "merging_config = dict(\n",
    "    **managers,\n",
    "    input_folder_key=\"training_data\",\n",
    "    model_folder_key=\"models\",\n",
    "    model_filename=\"lulc_model\",\n",
    "    train_features=[\"FEATURES.npy\"],\n",
    "    train_reference=\"LULC.npy\",\n",
    "    train_test_split=dict(train_size=0.8),\n",
    ")\n",
    "\n",
    "training_pipeline = ClassificationTrainingPipeline.from_raw_config(merging_config)"
   ]
  },
  {
   "cell_type": "code",
   "execution_count": null,
   "metadata": {},
   "outputs": [],
   "source": [
    "training_pipeline.run()"
   ]
  },
  {
   "cell_type": "markdown",
   "metadata": {},
   "source": [
    "## Sanity check"
   ]
  },
  {
   "cell_type": "code",
   "execution_count": null,
   "metadata": {},
   "outputs": [],
   "source": [
    "from eogrow.pipelines.prediction import ClassificationPredictionPipeline\n",
    "\n",
    "merging_config = dict(\n",
    "    **managers,\n",
    "    input_folder_key=\"mosaicked_data\",\n",
    "    input_features=[(\"data\", \"FEATURES\")],\n",
    "    output_folder_key=\"predictions\",\n",
    "    output_feature_name=\"predicted_LULC\",\n",
    "    model_folder_key=\"models\",\n",
    "    model_filename=\"lulc_model\",\n",
    ")\n",
    "\n",
    "prediction_pipeline = ClassificationPredictionPipeline.from_raw_config(merging_config)"
   ]
  },
  {
   "cell_type": "code",
   "execution_count": null,
   "metadata": {},
   "outputs": [],
   "source": [
    "prediction_pipeline.run()"
   ]
  },
  {
   "cell_type": "code",
   "execution_count": null,
   "metadata": {},
   "outputs": [],
   "source": [
    "from eolearn.core import EOPatch\n",
    "\n",
    "patch_name = \"eopatch-id-05-col-1-row-1\"\n",
    "\n",
    "ref_patch = EOPatch.load(PROJECT_FOLDER / \"reference\" / patch_name)\n",
    "predicted_patch = EOPatch.load(PROJECT_FOLDER / \"predictions\" / patch_name)\n",
    "reference = ref_patch.mask_timeless[\"LULC\"]\n",
    "prediction = predicted_patch.mask_timeless[\"predicted_LULC\"]"
   ]
  },
  {
   "cell_type": "code",
   "execution_count": null,
   "metadata": {},
   "outputs": [],
   "source": [
    "from matplotlib.colors import BoundaryNorm, ListedColormap\n",
    "\n",
    "lulc_cmap = ListedColormap(\n",
    "    [\n",
    "        \"#ffffff\",\n",
    "        \"#ffff00\",\n",
    "        \"#054907\",\n",
    "        \"#ffa500\",\n",
    "        \"#806000\",\n",
    "        \"#069af3\",\n",
    "        \"#95d0fc\",\n",
    "        \"#967bb6\",\n",
    "        \"#dc143c\",\n",
    "        \"#a6a6a6\",\n",
    "        \"#000000\",\n",
    "    ],\n",
    "    name=\"lulc_cmap\",\n",
    ")\n",
    "lulc_norm = BoundaryNorm([x - 0.5 for x in range(11)], lulc_cmap.N)"
   ]
  },
  {
   "cell_type": "code",
   "execution_count": null,
   "metadata": {},
   "outputs": [],
   "source": [
    "import matplotlib.pyplot as plt\n",
    "\n",
    "figs, axs = plt.subplots(1, 3, figsize=(15, 6))\n",
    "axs[0].imshow(reference, cmap=lulc_cmap, norm=lulc_norm, interpolation=\"none\")\n",
    "axs[1].imshow(prediction, cmap=lulc_cmap, norm=lulc_norm, interpolation=\"none\")\n",
    "axs[2].imshow(reference != prediction, interpolation=\"none\")"
   ]
  },
  {
   "cell_type": "code",
   "execution_count": null,
   "metadata": {},
   "outputs": [],
   "source": []
  }
 ],
 "metadata": {
  "kernelspec": {
   "display_name": "Python 3.8.10 ('.eo-py')",
   "language": "python",
   "name": "python3"
  },
  "language_info": {
   "codemirror_mode": {
    "name": "ipython",
    "version": 3
   },
   "file_extension": ".py",
   "mimetype": "text/x-python",
   "name": "python",
   "nbconvert_exporter": "python",
   "pygments_lexer": "ipython3",
   "version": "3.8.10"
  },
  "vscode": {
   "interpreter": {
    "hash": "4c4c53e6f9c83aea5e5dab2b97105fe6d0f8bf1ed8e86af9253e609e43fdbeb9"
   }
  }
 },
 "nbformat": 4,
 "nbformat_minor": 2
}
