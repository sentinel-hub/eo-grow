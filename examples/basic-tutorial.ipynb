{
 "cells": [
  {
   "cell_type": "markdown",
   "metadata": {},
   "source": [
    "# `eo-grow` Tutorial\n",
    "\n",
    "The main objects in `eo-grow` package are structured like this\n",
    "\n",
    "![eo-grow flowchart](../docs/source/figures/eo-grow-structure.png)\n",
    "\n",
    "Let's take a close look in each of them"
   ]
  },
  {
   "cell_type": "markdown",
   "metadata": {},
   "source": [
    "## Config\n",
    "\n",
    "Most objects in `eo-grow` are configured with a `pydantic` model. The class of the configuration model is attached to the `eo-grow` object as a `Schema` class (e.g. `Pipeline.Schema`).\n",
    "\n",
    "These configuration objects are great for parsing and validating, but the package also provides some utility functions/methods for working with dictionaries.\n",
    "- `from_raw_config` creates the object from a dictionary, e.g. `Pipeline.from_raw_config(params_dict)`.\n",
    "- `from_path` reads the configuration from a `.json` file and creates the appropriate object.\n"
   ]
  },
  {
   "cell_type": "code",
   "execution_count": 1,
   "metadata": {},
   "outputs": [
    {
     "data": {
      "text/plain": [
       "Schema(test_param=3, test_string='default')"
      ]
     },
     "execution_count": 1,
     "metadata": {},
     "output_type": "execute_result"
    }
   ],
   "source": [
    "from eogrow.core.base import EOGrowObject\n",
    "\n",
    "\n",
    "class TestObject(EOGrowObject):\n",
    "    class Schema(EOGrowObject.Schema):\n",
    "        test_param: int\n",
    "        test_string: str = \"default\"\n",
    "\n",
    "\n",
    "test_config = {\"test_param\": 3}\n",
    "test_object = TestObject.from_raw_config(test_config)\n",
    "test_object.config"
   ]
  },
  {
   "cell_type": "markdown",
   "metadata": {},
   "source": [
    "The package also offers utility in the form of a *config language*. It supports variables, combining of configs, relative paths and more.\n",
    "\n",
    "The *interpretation* of this language is done automatically with `from_path`, but not in `from_raw_config`. One can also load an interpreted config dictionary with the function `interpret_config_from_path`. This dictionary can then be adjusted and passed to the appropriate object. "
   ]
  },
  {
   "cell_type": "code",
   "execution_count": 2,
   "metadata": {},
   "outputs": [
    {
     "data": {
      "text/plain": [
       "{'pipeline': 'SimplePipeline',\n",
       " 'test_param': 10,\n",
       " 'test_subset': [0, 'eopatch-id-1-col-0-row-1'],\n",
       " 'workers': 3,\n",
       " 'logging': {'save_logs': True,\n",
       "  'show_logs': True,\n",
       "  'capture_warnings': True,\n",
       "  'manager': 'eogrow.core.logging.LoggingManager'},\n",
       " 'area': {'manager': 'eogrow.core.area.UtmZoneAreaManager',\n",
       "  'area': {'filename': 'test_area.geojson', 'buffer': 0.001},\n",
       "  'patch': {'size_x': 2400, 'size_y': 1100, 'buffer_x': 120, 'buffer_y': 55},\n",
       "  'offset_x': 0,\n",
       "  'offset_y': 0},\n",
       " 'storage': {'manager': 'eogrow.core.storage.StorageManager',\n",
       "  'project_folder': '/home/zluksic/Documents/Projects/eo-grow/tests/test_project',\n",
       "  'structure': {'data': 'data',\n",
       "   'batch_data': 'batch-data',\n",
       "   'data_2019': 'data-2019',\n",
       "   'data_custom_range': 'data-custom-range',\n",
       "   'data_sampled': 'data-sampled',\n",
       "   'features': 'features',\n",
       "   'features_sampled': 'features-sampled',\n",
       "   'training_data': 'training_data',\n",
       "   'reference': 'reference',\n",
       "   'models': 'models',\n",
       "   'predictions': 'predictions',\n",
       "   'predictions_to_map': 'predictions_to_map',\n",
       "   'maps': 'maps',\n",
       "   'temp': 'temp'}}}"
      ]
     },
     "execution_count": 2,
     "metadata": {},
     "output_type": "execute_result"
    }
   ],
   "source": [
    "import os\n",
    "\n",
    "from eogrow.core.config import interpret_config_from_path\n",
    "\n",
    "CONFIG_FOLDER = os.path.join(\"..\", \"tests\", \"test_config_files\", \"other\")\n",
    "CONFIG_FILE = os.path.join(CONFIG_FOLDER, \"simple_config.json\")\n",
    "\n",
    "config = interpret_config_from_path(CONFIG_FILE)\n",
    "config"
   ]
  },
  {
   "cell_type": "markdown",
   "metadata": {},
   "source": [
    "## StorageManager\n",
    "\n",
    "Object in charge of folder structure of data. It contains a definition of entire folder structure"
   ]
  },
  {
   "cell_type": "code",
   "execution_count": 3,
   "metadata": {},
   "outputs": [
    {
     "data": {
      "text/plain": [
       "<eogrow.core.storage.StorageManager at 0x7f2be29e50d0>"
      ]
     },
     "execution_count": 3,
     "metadata": {},
     "output_type": "execute_result"
    }
   ],
   "source": [
    "from eogrow.core.storage import StorageManager\n",
    "\n",
    "storage = StorageManager.from_raw_config(config[\"storage\"])\n",
    "\n",
    "storage"
   ]
  },
  {
   "cell_type": "markdown",
   "metadata": {},
   "source": [
    "The following folders are always defined in the folder structure"
   ]
  },
  {
   "cell_type": "code",
   "execution_count": 4,
   "metadata": {},
   "outputs": [
    {
     "name": "stdout",
     "output_type": "stream",
     "text": [
      "input-data\n",
      "cache\n",
      "logs\n"
     ]
    }
   ],
   "source": [
    "print(storage.get_input_data_folder())\n",
    "print(storage.get_cache_folder())\n",
    "print(storage.get_logs_folder())"
   ]
  },
  {
   "cell_type": "markdown",
   "metadata": {},
   "source": [
    "Any other folder is custom defined"
   ]
  },
  {
   "cell_type": "code",
   "execution_count": 5,
   "metadata": {},
   "outputs": [
    {
     "data": {
      "text/plain": [
       "'/home/zluksic/Documents/Projects/eo-grow/tests/test_project/data'"
      ]
     },
     "execution_count": 5,
     "metadata": {},
     "output_type": "execute_result"
    }
   ],
   "source": [
    "storage.get_folder(\"data\", full_path=True)"
   ]
  },
  {
   "cell_type": "markdown",
   "metadata": {},
   "source": [
    "## AreaManager\n",
    "\n",
    "The object in charge of splitting and managing area of interest (AOI)"
   ]
  },
  {
   "cell_type": "code",
   "execution_count": 6,
   "metadata": {},
   "outputs": [],
   "source": [
    "from eogrow.core.area import UtmZoneAreaManager\n",
    "\n",
    "area_manager = UtmZoneAreaManager.from_raw_config(config[\"area\"], storage)"
   ]
  },
  {
   "cell_type": "code",
   "execution_count": 7,
   "metadata": {},
   "outputs": [
    {
     "data": {
      "image/svg+xml": "<svg xmlns=\"http://www.w3.org/2000/svg\" xmlns:xlink=\"http://www.w3.org/1999/xlink\" width=\"100.0\" height=\"100.0\" viewBox=\"47.676539467382696 39.63040323314563 0.024065510376551913 0.019006821758793535\" preserveAspectRatio=\"xMinYMin meet\"><g transform=\"matrix(1,0,0,-1,0,79.27981328805005)\"><path fill-rule=\"evenodd\" fill=\"#66cc99\" stroke=\"#555555\" stroke-width=\"0.00048131020753103824\" opacity=\"0.6\" d=\"M 47.68222667016219,39.633420549396426 L 47.68216183873998,39.63343267356421 L 47.68206803097284,39.63345991229801 L 47.68197732832401,39.633496173507154 L 47.68189059626417,39.63354111119279 L 47.68180866237726,39.63359429656645 L 47.6817323084638,39.63365522214149 L 47.68166226308105,39.633723306575476 L 47.681599194591264,39.63379790021723 L 47.68154370478424,39.633878291305734 L 47.67758093298376,39.640265653747306 L 47.677534786984396,39.640348574692354 L 47.67749670880579,39.64043549643129 L 47.67746704135474,39.6405256362046 L 47.67744605179663,39.64061818227332 L 47.67743392914949,39.640712301228966 L 47.67743078258183,39.64080714549868 L 47.67743664042956,39.640901860977905 L 47.67745144994078,39.64099559472189 L 47.67747507775087,39.64108750262675 L 47.677507311083446,39.64117675703088 L 47.677547859666504,39.64126255416834 L 47.67759635834642,39.64134412140706 L 47.67765237037626,39.641420724206604 L 47.68047518677441,39.64491984036682 L 47.68034254011114,39.64560960301583 L 47.680328962486776,39.645704576255035 L 47.68032454848506,39.645800413537124 L 47.680329338733664,39.64589623275006 L 47.680343289141845,39.64599115194812 L 47.68036627130631,39.646084297469564 L 47.680398073693055,39.64617481197805 L 47.6804384035844,39.646261862353775 L 47.68048688977319,39.646344647361744 L 47.68054308597958,39.64642240502656 L 47.680606474958594,39.64649441964583 L 47.68067647326109,39.64656002837769 L 47.680752436603925,39.646618627341795 L 47.68083366580014,39.64666967717757 L 47.68091941319442,39.646712708008636 L 47.68100888954478,39.64674732376769 L 47.681101271286906,39.64677320584202 L 47.68119570811447,39.64679011600606 L 47.68207627294419,39.64690452009811 L 47.68265797686108,39.64762559057842 L 47.68272361617873,39.64769920911632 L 47.682796188505165,39.64776600332699 L 47.68287498784162,39.647825323422374 L 47.682959247611684,39.64787659232418 L 47.68304814811869,39.6479193112778 L 47.68314082451989,39.64795306470434 L 47.68323637523989,39.64797752424339 L 47.6833338707413,39.64799245194744 L 47.683432362567494,39.64799770259667 L 47.68353089256938,39.647993225111655 L 47.68362850222649,39.64797906305032 L 47.683724241971674,39.64795535418415 L 47.68381718042867,39.64792232915795 L 47.68390641347272,39.6478803092461 L 47.68399107302612,39.64782970322707 L 47.684070335503016,39.6477710034068 L 47.68414342982147,39.647704780829436 L 47.684209644904655,39.64763167972204 L 47.68426833659839,39.64755241122748 L 47.68431893393762,39.64746774648626 L 47.68445433781726,39.64721348128241 L 47.69443970860557,39.64851079323522 L 47.69454069536692,39.64851873970529 L 47.694641967927524,39.64851642868378 L 47.694742487081825,39.648503883885155 L 47.69484122135528,39.64848123403754 L 47.694937157588896,39.64844871156171 L 47.695029311335645,39.64840665018616 L 47.695116736962405,39.64835548152252 L 47.69519853735353,39.648295730636626 L 47.695273873116555,39.64822801066054 L 47.69534197119565,39.64815301650092 L 47.699487239065895,39.64309526828188 L 47.699544208169485,39.64301855717429 L 47.699593595722256,39.642936758993244 L 47.69963495081226,39.64285062056208 L 47.699667895864515,39.64276092833096 L 47.69969213008829,39.64266850119647 L 47.699707432223356,39.64257418302508 L 47.699713662560114,39.64247883494856 L 47.699710764215126,39.6423833275018 L 47.69969876365051,39.64228853267472 L 47.699677770432274,39.642195315951 L 47.69964797623004,39.64210452840612 L 47.69960965306704,39.642016998936974 L 47.69956315083655,39.641933526693975 L 47.69950889410731,39.64185487378479 L 47.69944737824721,39.6417817583162 L 47.69937916490053,39.64171484783775 L 47.69930487686008,39.64165475324698 L 47.6992251923811,39.64160202321189 L 47.69755237795375,39.64060658082378 L 47.69874769634113,39.63779486598073 L 47.69878291503415,39.63769859121689 L 47.69880809209864,39.63759921666324 L 47.698822962944114,39.63749778666548 L 47.6988273712901,39.637395367170384 L 47.69882127080845,39.637293034523516 L 47.69880472561028,39.63719186415776 L 47.69877790957216,39.63709291929135 L 47.69874110450883,39.63699723975433 L 47.69869469721156,39.636905831060815 L 47.6986391753833,39.6368196538418 L 47.694963183121004,39.63170976388854 L 47.694900312234125,39.6316310571597 L 47.69482984189587,39.631559075016035 L 47.6947524872038,39.63149454789618 L 47.694669033114494,39.63143813058892 L 47.6945803264781,39.631390395588745 L 47.69448726744501,39.63135182728646 L 47.69439080033153,39.63132281705381 L 47.69429190403747,39.631303659272064 L 47.69419158211272,39.63129454834476 L 47.69409085257378,39.63129557672503 L 47.6939907375734,39.631306733977375 L 47.68278026471677,39.633131694674965 L 47.682684044871515,39.63315226274394 L 47.68259031210921,39.633182187204696 L 47.68249997388522,39.63322117834943 L 47.68241390479136,39.633268858693015 L 47.682332938088706,39.63332476662754 L 47.68225785764053,39.633388360891296 L 47.68222667016219,39.633420549396426 z\" /></g></svg>",
      "text/plain": [
       "<shapely.geometry.polygon.Polygon at 0x7f2be29edeb0>"
      ]
     },
     "execution_count": 7,
     "metadata": {},
     "output_type": "execute_result"
    }
   ],
   "source": [
    "geometry = area_manager.get_area_geometry()\n",
    "\n",
    "geometry.geometry"
   ]
  },
  {
   "cell_type": "code",
   "execution_count": 9,
   "metadata": {},
   "outputs": [
    {
     "data": {
      "text/html": [
       "<div>\n",
       "<style scoped>\n",
       "    .dataframe tbody tr th:only-of-type {\n",
       "        vertical-align: middle;\n",
       "    }\n",
       "\n",
       "    .dataframe tbody tr th {\n",
       "        vertical-align: top;\n",
       "    }\n",
       "\n",
       "    .dataframe thead th {\n",
       "        text-align: right;\n",
       "    }\n",
       "</style>\n",
       "<table border=\"1\" class=\"dataframe\">\n",
       "  <thead>\n",
       "    <tr style=\"text-align: right;\">\n",
       "      <th></th>\n",
       "      <th>eopatch_name</th>\n",
       "      <th>geometry</th>\n",
       "    </tr>\n",
       "  </thead>\n",
       "  <tbody>\n",
       "    <tr>\n",
       "      <th>0</th>\n",
       "      <td>eopatch-id-0-col-0-row-0</td>\n",
       "      <td>POLYGON ((729480.000 4390045.000, 729480.000 4...</td>\n",
       "    </tr>\n",
       "    <tr>\n",
       "      <th>1</th>\n",
       "      <td>eopatch-id-1-col-0-row-1</td>\n",
       "      <td>POLYGON ((729480.000 4391145.000, 729480.000 4...</td>\n",
       "    </tr>\n",
       "  </tbody>\n",
       "</table>\n",
       "</div>"
      ],
      "text/plain": [
       "               eopatch_name                                           geometry\n",
       "0  eopatch-id-0-col-0-row-0  POLYGON ((729480.000 4390045.000, 729480.000 4...\n",
       "1  eopatch-id-1-col-0-row-1  POLYGON ((729480.000 4391145.000, 729480.000 4..."
      ]
     },
     "execution_count": 9,
     "metadata": {},
     "output_type": "execute_result"
    }
   ],
   "source": [
    "from sentinelhub import CRS\n",
    "\n",
    "grid = area_manager.get_grid()\n",
    "grid[CRS(32638)]"
   ]
  },
  {
   "cell_type": "code",
   "execution_count": 10,
   "metadata": {},
   "outputs": [
    {
     "data": {
      "text/plain": [
       "[('eopatch-id-0-col-0-row-0',\n",
       "  BBox(((729480.0, 4390045.0), (732120.0, 4391255.0)), crs=CRS('32638'))),\n",
       " ('eopatch-id-1-col-0-row-1',\n",
       "  BBox(((729480.0, 4391145.0), (732120.0, 4392355.0)), crs=CRS('32638')))]"
      ]
     },
     "execution_count": 10,
     "metadata": {},
     "output_type": "execute_result"
    }
   ],
   "source": [
    "area_manager.get_patch_list()"
   ]
  },
  {
   "cell_type": "markdown",
   "metadata": {},
   "source": [
    "## Pipeline\n",
    "\n",
    "The main object in the package is `Pipeline`. It contains a schema for config parameters and a data-processing procedure."
   ]
  },
  {
   "cell_type": "code",
   "execution_count": 11,
   "metadata": {},
   "outputs": [
    {
     "name": "stdout",
     "output_type": "stream",
     "text": [
      "INFO eogrow.core.pipeline:225: Running SimplePipeline\n",
      "INFO eogrow.core.pipeline:237: Pipeline finished successfully!\n"
     ]
    }
   ],
   "source": [
    "from pydantic import Field\n",
    "\n",
    "from eogrow.core.pipeline import Pipeline\n",
    "\n",
    "\n",
    "class SimplePipeline(Pipeline):\n",
    "    class Schema(Pipeline.Schema):\n",
    "        test_param: int = Field(..., description=\"Some integer\")\n",
    "\n",
    "    def run_procedure(self):\n",
    "        # implement something and return which EOPatches have been successfully processed and which not\n",
    "\n",
    "        return [], []\n",
    "\n",
    "\n",
    "pipeline = SimplePipeline.from_raw_config(config)\n",
    "\n",
    "pipeline.run()"
   ]
  }
 ],
 "metadata": {
  "kernelspec": {
   "display_name": "Python 3.8.10 ('.eo-py')",
   "language": "python",
   "name": "python3"
  },
  "language_info": {
   "codemirror_mode": {
    "name": "ipython",
    "version": 3
   },
   "file_extension": ".py",
   "mimetype": "text/x-python",
   "name": "python",
   "nbconvert_exporter": "python",
   "pygments_lexer": "ipython3",
   "version": "3.8.10"
  },
  "vscode": {
   "interpreter": {
    "hash": "4c4c53e6f9c83aea5e5dab2b97105fe6d0f8bf1ed8e86af9253e609e43fdbeb9"
   }
  }
 },
 "nbformat": 4,
 "nbformat_minor": 2
}
